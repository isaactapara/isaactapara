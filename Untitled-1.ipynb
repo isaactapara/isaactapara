{
 "cells": [
  {
   "cell_type": "code",
   "execution_count": null,
   "metadata": {
    "vscode": {
     "languageId": "plaintext"
    }
   },
   "outputs": [],
   "source": [
    "#include (stdio.h)\n",
    "\n",
    "int main()\n",
    "\n",
    "{\n",
    "    printf(\"i am a bad boy\");\n",
    "\n",
    "    return 0;\n",
    "}"
   ]
  }
 ],
 "metadata": {
  "language_info": {
   "name": "python"
  }
 },
 "nbformat": 4,
 "nbformat_minor": 2
}
